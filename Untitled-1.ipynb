{
 "cells": [
  {
   "cell_type": "markdown",
   "id": "34b8d18e",
   "metadata": {},
   "source": [
    "<h1>Parth</h1>"
   ]
  },
  {
   "cell_type": "markdown",
   "id": "9eb1d6d7",
   "metadata": {},
   "source": [
    "| Subject   | Teacher   |\n",
    "|-----------|-----------|\n",
    "| Math      | Mr. Smith |\n",
    "| Science   | Ms. Lee   |"
   ]
  },
  {
   "cell_type": "markdown",
   "id": "c4b37b12",
   "metadata": {},
   "source": [
    "| Boys  | Girls |\n",
    "| ------|-------|\n",
    "|  12   |  21   |"
   ]
  },
  {
   "cell_type": "markdown",
   "id": "5e2a780f",
   "metadata": {},
   "source": [
    "| Name | Roll no |\n",
    "|------|---------|\n",
    "| Parth| 12345   |"
   ]
  },
  {
   "cell_type": "markdown",
   "id": "dad7cb37",
   "metadata": {},
   "source": []
  },
  {
   "cell_type": "markdown",
   "id": "ca017195",
   "metadata": {},
   "source": [
    "<h1 align=\"center\">My Self</h1>\n",
    "<p>\n",
    "I am currently a college student with a passion for learning and self-improvement. I enjoy exploring new subjects, participating in extracurricular activities, and collaborating with my peers. My goal is to gain knowledge and skills that will help me succeed in my future career and make a positive impact in the world.</p>"
   ]
  },
  {
   "cell_type": "code",
   "execution_count": 1,
   "id": "6b81c105",
   "metadata": {},
   "outputs": [],
   "source": [
    "user_name = input(\"Enter your name: \")\n",
    "user_password = input(\"Enter your password: \")"
   ]
  },
  {
   "cell_type": "code",
   "execution_count": 2,
   "id": "2cee0752",
   "metadata": {},
   "outputs": [
    {
     "name": "stdout",
     "output_type": "stream",
     "text": [
      "welcome to your Netflix Account\n",
      "Login successful!\n"
     ]
    }
   ],
   "source": [
    "print(f\"welcome to your Netflix Account\")\n",
    "uname = input(\"Enter your username: \")\n",
    "pword = input(\"Enter your password: \")\n",
    "if uname == user_name and pword == user_password:\n",
    "    print(\"Login successful!\")\n",
    "else:\n",
    "    print(\"Login failed! Please check your username and password.\")\n"
   ]
  },
  {
   "cell_type": "code",
   "execution_count": 3,
   "id": "e8ef30cb",
   "metadata": {},
   "outputs": [
    {
     "name": "stdout",
     "output_type": "stream",
     "text": [
      "welcome to your Netflix Account please choose your plan\n",
      "1. Basic Plan - $8.99/month /n2. Standard Plan - $13.99/month /n3. Premium Plan - $17.99/month\n",
      "Invalid choice. Please select a valid plan number.\n"
     ]
    }
   ],
   "source": [
    "print(\"welcome to your Netflix Account please choose your plan\")\n",
    "print(\"1. Basic Plan - $8.99/month /n2. Standard Plan - $13.99/month /n3. Premium Plan - $17.99/month\")\n",
    "plan_choice = input(\"Enter the number of your chosen plan: \")\n",
    "if plan_choice == \"1\":\n",
    "    print(\"You have chosen the Basic Plan.\")\n",
    "elif plan_choice == \"2\":\n",
    "    print(\"You have chosen the Standard Plan.\")\n",
    "elif plan_choice == \"3\":\n",
    "    print(\"You have chosen the Premium Plan.\")\n",
    "else:\n",
    "    print(\"Invalid choice. Please select a valid plan number.\")"
   ]
  },
  {
   "cell_type": "code",
   "execution_count": 4,
   "id": "a4cbadf8",
   "metadata": {},
   "outputs": [
    {
     "name": "stdout",
     "output_type": "stream",
     "text": [
      "Welcome to your Netflix  account!\n",
      "categories available:\n",
      "Please choose a category from the list above:\n"
     ]
    }
   ],
   "source": [
    "print(f\"Welcome to your Netflix {user_name} account!\")\n",
    "print(\"categories available:\")\n",
    "categories = [\"Action\", \"Comedy\", \"Drama\", \"Horror\", \"Sci-Fi\", \"Documentary\"]\n",
    "print(\"Please choose a category from the list above:\")\n",
    "chosen_category = input(\"Enter your chosen category: \")\n",
    "if chosen_category in categories:\n",
    "    print(f\"You have chosen the {chosen_category} category.\")"
   ]
  },
  {
   "cell_type": "code",
   "execution_count": 5,
   "id": "b586b72f",
   "metadata": {},
   "outputs": [],
   "source": [
    "movies = [\n",
    "    {\n",
    "        \"movie_title\": \"Inception\",\n",
    "        \"description\": \"A thief who steals corporate secrets through the use of dream-sharing technology is given the inverse task of planting an idea into the mind of a CEO.\",\n",
    "        \"release_year\": 2010,\n",
    "        \"rating\": 8.8,\n",
    "    },\n",
    "    {\n",
    "        \"movie_title\": \"The Dark Knight\",\n",
    "        \"description\": \"Crime When the menace known as the Joker emerges from his mysterious past, he wreaks havoc and chaos on the people of Gotham.\",\n",
    "        \"release_year\": 2008,\n",
    "        \"rating\": 9.0,  \n",
    "    }\n",
    "]"
   ]
  },
  {
   "cell_type": "code",
   "execution_count": 6,
   "id": "edc235ff",
   "metadata": {},
   "outputs": [
    {
     "name": "stdout",
     "output_type": "stream",
     "text": [
      "Inception\n",
      "The Dark Knight\n"
     ]
    }
   ],
   "source": [
    "for movie in movies:\n",
    "    if 2008 <= movie['release_year'] <= 2010:\n",
    "        print(movie['movie_title'])"
   ]
  },
  {
   "cell_type": "code",
   "execution_count": 7,
   "id": "312df4d6",
   "metadata": {},
   "outputs": [
    {
     "name": "stdout",
     "output_type": "stream",
     "text": [
      "['False', 'None', 'True', 'and', 'as', 'assert', 'async', 'await', 'break', 'class', 'continue', 'def', 'del', 'elif', 'else', 'except', 'finally', 'for', 'from', 'global', 'if', 'import', 'in', 'is', 'lambda', 'nonlocal', 'not', 'or', 'pass', 'raise', 'return', 'try', 'while', 'with', 'yield']\n"
     ]
    }
   ],
   "source": [
    "import keyword\n",
    "print(keyword.kwlist)"
   ]
  },
  {
   "cell_type": "code",
   "execution_count": 8,
   "id": "a74d84c6",
   "metadata": {},
   "outputs": [
    {
     "name": "stdout",
     "output_type": "stream",
     "text": [
      "Integer: 10, type: <class 'int'>\n",
      "Float: 3.14, type: <class 'float'>\n",
      "String: programming, type: <class 'str'>\n",
      "Boolean: True, type: <class 'bool'>\n",
      "List: [1, 2, 3], type: <class 'list'>\n",
      "Tuple: (4, 5, 6), type: <class 'tuple'>\n",
      "Dictionary: {'a': 1, 'b': 2}, type: <class 'dict'>\n",
      "Integer: 10, type: <class 'int'>\n",
      "Float: 3.14, type: <class 'float'>\n",
      "String: programming, type: <class 'str'>\n",
      "Boolean: True, type: <class 'bool'>\n",
      "List: [1, 2, 3], type: <class 'list'>\n",
      "Tuple: (4, 5, 6), type: <class 'tuple'>\n",
      "Dictionary: {'a': 1, 'b': 2}, type: <class 'dict'>\n"
     ]
    }
   ],
   "source": [
    "#Q1.# Demonstration of Fundamental Data Types in Python\n",
    "\n",
    "# Integer\n",
    "int_num = 10\n",
    "print(f\"Integer: {int_num}, type: {type(int_num)}\")\n",
    "\n",
    "# Float\n",
    "float_num = 3.14\n",
    "print(f\"Float: {float_num}, type: {type(float_num)}\")\n",
    "\n",
    "# String\n",
    "sample_str = \"programming\"\n",
    "print(f\"String: {sample_str}, type: {type(sample_str)}\")\n",
    "\n",
    "# Boolean\n",
    "bool_val = True\n",
    "print(f\"Boolean: {bool_val}, type: {type(bool_val)}\")\n",
    "\n",
    "# List\n",
    "list_val = [1, 2, 3]\n",
    "print(f\"List: {list_val}, type: {type(list_val)}\")\n",
    "\n",
    "# Tuple\n",
    "tuple_val = (4, 5, 6)\n",
    "print(f\"Tuple: {tuple_val}, type: {type(tuple_val)}\")\n",
    "\n",
    "# Dictionary\n",
    "dict_val = {'a': 1, 'b': 2}\n",
    "print(f\"Dictionary: {dict_val}, type: {type(dict_val)}\")\n",
    "# Integer\n",
    "int_num = 10\n",
    "print(f\"Integer: {int_num}, type: {type(int_num)}\")\n",
    "\n",
    "# Float\n",
    "float_num = 3.14\n",
    "print(f\"Float: {float_num}, type: {type(float_num)}\")\n",
    "\n",
    "# String\n",
    "sample_str = \"programming\"\n",
    "print(f\"String: {sample_str}, type: {type(sample_str)}\")\n",
    "\n",
    "# Boolean\n",
    "bool_val = True\n",
    "print(f\"Boolean: {bool_val}, type: {type(bool_val)}\")\n",
    "\n",
    "# List\n",
    "list_val = [1, 2, 3]\n",
    "print(f\"List: {list_val}, type: {type(list_val)}\")\n",
    "\n",
    "# Tuple\n",
    "tuple_val = (4, 5, 6)\n",
    "print(f\"Tuple: {tuple_val}, type: {type(tuple_val)}\")\n",
    "\n",
    "# Dictionary\n",
    "dict_val = {'a': 1, 'b': 2}\n",
    "print(f\"Dictionary: {dict_val}, type: {type(dict_val)}\")"
   ]
  },
  {
   "cell_type": "code",
   "execution_count": 9,
   "id": "c6722805",
   "metadata": {},
   "outputs": [
    {
     "name": "stdout",
     "output_type": "stream",
     "text": [
      "Addition: 15\n",
      "Subtraction: 5\n",
      "Multiplication: 50\n",
      "Division: 2.0\n",
      "Floor Division: 2\n",
      "Modulus: 0\n",
      "Exponentiation: 100000\n"
     ]
    }
   ],
   "source": [
    "a = 10\n",
    "b = 5\n",
    "print(f\"Addition: {a + b}\")\n",
    "print(f\"Subtraction: {a - b}\")\n",
    "print(f\"Multiplication: {a * b}\")\n",
    "print(f\"Division: {a / b}\")\n",
    "print(f\"Floor Division: {a // b}\")\n",
    "print(f\"Modulus: {a % b}\")\n",
    "print(f\"Exponentiation: {a ** b}\")"
   ]
  },
  {
   "cell_type": "code",
   "execution_count": 10,
   "id": "1ae0f19f",
   "metadata": {},
   "outputs": [
    {
     "name": "stdout",
     "output_type": "stream",
     "text": [
      "Concatenated String: Hello World\n",
      "Sub-string (first 5 characters): Hello\n",
      "Sub-string ('World'): World\n"
     ]
    }
   ],
   "source": [
    "# Create strings\n",
    "str1 = \"Hello\"\n",
    "str2 = \"World\"\n",
    "concatenated = str1 + \" \" + str2\n",
    "print(\"Concatenated String:\", concatenated)\n",
    "substring = concatenated[:5]\n",
    "print(\"Sub-string (first 5 characters):\", substring)\n",
    "substring_world = concatenated[6:]\n",
    "print(\"Sub-string ('World'):\", substring_world)"
   ]
  },
  {
   "cell_type": "code",
   "execution_count": 11,
   "id": "6a2e9d33",
   "metadata": {},
   "outputs": [
    {
     "name": "stdout",
     "output_type": "stream",
     "text": [
      "String after removing duplicates: progamin\n",
      "1/2 = 0.5\n",
      "1/3 = 0.3333333333333333\n",
      "1/4 = 0.25\n",
      "1/5 = 0.2\n",
      "1/6 = 0.16666666666666666\n",
      "1/7 = 0.14285714285714285\n",
      "1/8 = 0.125\n",
      "1/9 = 0.1111111111111111\n",
      "1/10 = 0.1\n"
     ]
    }
   ],
   "source": [
    "# Remove all duplicates from a given string\n",
    "input_str = \"programming\"\n",
    "result = \"\"\n",
    "for char in input_str:\n",
    "    if char not in result:\n",
    "        result += char\n",
    "print(\"String after removing duplicates:\", result)\n",
    "for i in range(2, 11):\n",
    "    print(f\"1/{i} = {1/i}\")"
   ]
  },
  {
   "cell_type": "code",
   "execution_count": 12,
   "id": "a2e677e4",
   "metadata": {},
   "outputs": [
    {
     "ename": "ValueError",
     "evalue": "invalid literal for int() with base 10: ''",
     "output_type": "error",
     "traceback": [
      "\u001b[31m---------------------------------------------------------------------------\u001b[39m",
      "\u001b[31mValueError\u001b[39m                                Traceback (most recent call last)",
      "\u001b[36mCell\u001b[39m\u001b[36m \u001b[39m\u001b[32mIn[12]\u001b[39m\u001b[32m, line 1\u001b[39m\n\u001b[32m----> \u001b[39m\u001b[32m1\u001b[39m num = \u001b[38;5;28;43mint\u001b[39;49m\u001b[43m(\u001b[49m\u001b[38;5;28;43minput\u001b[39;49m\u001b[43m(\u001b[49m\u001b[33;43m\"\u001b[39;49m\u001b[33;43mEnter a number to start the countdown: \u001b[39;49m\u001b[33;43m\"\u001b[39;49m\u001b[43m)\u001b[49m\u001b[43m)\u001b[49m\n\u001b[32m      2\u001b[39m \u001b[38;5;28;01mwhile\u001b[39;00m num >= \u001b[32m0\u001b[39m:\n\u001b[32m      3\u001b[39m     \u001b[38;5;28mprint\u001b[39m(num)\n",
      "\u001b[31mValueError\u001b[39m: invalid literal for int() with base 10: ''"
     ]
    }
   ],
   "source": [
    "num = int(input(\"Enter a number to start the countdown: \"))\n",
    "while num >= 0:\n",
    "    print(num)\n",
    "    num -= 1\n",
    "print(\"countdown complete!\")"
   ]
  },
  {
   "cell_type": "code",
   "execution_count": null,
   "id": "c4ec3741",
   "metadata": {},
   "outputs": [
    {
     "name": "stdout",
     "output_type": "stream",
     "text": [
      "Calculator Menu:\n",
      "1. Addition\n",
      "2. Subtraction\n",
      "3. Multiplication\n",
      "4. Division\n",
      "5. Logarithm (base 10)\n",
      "6. Sin\n",
      "7. Cos\n",
      "log10 of 20 is: 1.3010299956639813\n"
     ]
    }
   ],
   "source": [
    "import math\n",
    "x = int(input(\"Enter first number: \"))\n",
    "y = int(input(\"Enter second number: \"))\n",
    "\n",
    "def add(x, y):\n",
    "    return x + y\n",
    "\n",
    "def subtract(x, y):\n",
    "    return x - y\n",
    "\n",
    "def multiply(x, y):\n",
    "    return x * y\n",
    "\n",
    "def divide(x, y):\n",
    "    if y != 0:\n",
    "        return x / y\n",
    "    else:\n",
    "        return \"Error: Division by zero\"\n",
    "def log10(x):\n",
    "    \n",
    "    return math.log10(x)\n",
    "def sin(x):\n",
    "    return math.sin(x)\n",
    "def cos(x):\n",
    "    return math.cos(x)\n",
    "\n",
    "def calculator_menu():\n",
    "    print(\"Calculator Menu:\")\n",
    "    print(\"1. Addition\")\n",
    "    print(\"2. Subtraction\")\n",
    "    print(\"3. Multiplication\")\n",
    "    print(\"4. Division\")\n",
    "    print(\"5. Logarithm (base 10)\")\n",
    "    print(\"6. Sin\")\n",
    "    print(\"7. Cos\")\n",
    "    choice = input(\"Enter your choice (1-4): \")\n",
    "    if choice == '1':\n",
    "        print(f\"Result: {add(x, y)}\")\n",
    "    elif choice == '2':\n",
    "        print(f\"Result: {subtract(x, y)}\")\n",
    "    elif choice == '3':\n",
    "        print(f\"Result: {multiply(x, y)}\")\n",
    "    elif choice == '4':\n",
    "        print(f\"Result: {divide(x, y)}\")\n",
    "    elif choice == '5':\n",
    "        print(f\"log10 of {x} is: {log10(x)}\")\n",
    "    elif choice == '6':\n",
    "        print(f\"sin of {x} is: {sin(x)}\")\n",
    "    else:\n",
    "        print(\"Invalid choice.\")\n",
    "\n",
    "calculator_menu()\n",
    "\n"
   ]
  },
  {
   "cell_type": "markdown",
   "id": "7118a601",
   "metadata": {},
   "source": [
    "<h1>Python Function</h1>"
   ]
  },
  {
   "cell_type": "code",
   "execution_count": null,
   "id": "f4ada9b1",
   "metadata": {},
   "outputs": [],
   "source": [
    "#Postitional based arguments in Python allow you to pass a variable number of arguments to a function. This is done using the `*args` syntax, where `args` is a tuple containing all the positional arguments passed to the function.\n",
    "\n",
    "def sayhellow(*name):\n",
    "    return f\"Hello, {name}!\""
   ]
  },
  {
   "cell_type": "code",
   "execution_count": 17,
   "id": "4269716d",
   "metadata": {},
   "outputs": [
    {
     "data": {
      "text/plain": [
       "\"Hello, ('Parth', 'himanshu,Joyboy')!\""
      ]
     },
     "execution_count": 17,
     "metadata": {},
     "output_type": "execute_result"
    }
   ],
   "source": [
    "sayhellow(\"Parth\",\"himanshu,Joyboy\")"
   ]
  },
  {
   "cell_type": "code",
   "execution_count": 31,
   "id": "8e062775",
   "metadata": {},
   "outputs": [],
   "source": [
    "War_based_movies = [\n",
    "    {\n",
    "        \"movie_title\": \"Inception\",\n",
    "        \"description\": \"A thief who steals corporate secrets through the use of dream-sharing technology is given the inverse task of planting an idea into the mind of a CEO.\",\n",
    "        \"release_year\": 2010,\n",
    "        \"rating\": 8.8,\n",
    "    },\n",
    "    {\n",
    "        \"movie_title\": \"The Dark Knight\",\n",
    "        \"description\": \"Crime When the menace known as the Joker emerges from his mysterious past, he wreaks havoc and chaos on the people of Gotham.\",\n",
    "        \"release_year\": 2008,\n",
    "        \"rating\": 9.0,  \n",
    "    },\n",
    "]\n",
    "newly_released_movies = [\n",
    "    {\n",
    "        \"movie_title\": \"Inception\",\n",
    "        \"description\": \"A thief who steals corporate secrets through the use of dream-sharing technology is given the inverse task of planting an idea into the mind of a CEO.\",\n",
    "        \"release_year\": 2010,\n",
    "        \"rating\": 8.8,\n",
    "    },\n",
    "    {\n",
    "        \"movie_title\": \"The Dark Knight\",\n",
    "        \"description\": \"Crime When the menace known as the Joker emerges from his mysterious past, he wreaks havoc and chaos on the people of Gotham.\",\n",
    "        \"release_year\": 2008,\n",
    "        \"rating\": 9.0,  \n",
    "    },\n",
    "]\n",
    "top_rated_movies = [\n",
    "    {\n",
    "        \"movie_title\": \"Inception\",\n",
    "        \"description\": \"A thief who steals corporate secrets through the use of dream-sharing technology is given the inverse task of planting an idea into the mind of a CEO.\",\n",
    "        \"release_year\": 2010,\n",
    "        \"rating\": 8.8,\n",
    "    },\n",
    "    {\n",
    "        \"movie_title\": \"The Dark Knight\",\n",
    "        \"description\": \"Crime When the menace known as the Joker emerges from his mysterious past, he wreaks havoc and chaos on the people of Gotham.\",\n",
    "        \"release_year\": 2008,\n",
    "        \"rating\": 9.0,  \n",
    "    },\n",
    "    {\n",
    "        \"movie_title\": \"Interstellar\",\n",
    "        \"description\": \"A team of explorers travel through a wormhole in space in an attempt to ensure humanity's survival.\",\n",
    "        \"release_year\": 2014,\n",
    "        \"rating\": 8.6,\n",
    "    },\n",
    "    {\n",
    "        \"movie_title\": \"The Matrix\",\n",
    "        \"description\": \"A computer hacker learns from mysterious rebels about the true nature of his reality and his role in the war against its controllers.\",\n",
    "        \"release_year\": 1999,\n",
    "        \"rating\": 8.7,\n",
    "    },\n",
    "]"
   ]
  },
  {
   "cell_type": "code",
   "execution_count": 32,
   "id": "a5c3b815",
   "metadata": {},
   "outputs": [],
   "source": [
    "movies_catalog = [War_based_movies, newly_released_movies, top_rated_movies]\n"
   ]
  },
  {
   "cell_type": "code",
   "execution_count": null,
   "id": "07bcf31a",
   "metadata": {},
   "outputs": [],
   "source": []
  },
  {
   "cell_type": "code",
   "execution_count": 40,
   "id": "22023c20",
   "metadata": {},
   "outputs": [],
   "source": [
    "def display_movies(movies):\n",
    "    for movie in movies:\n",
    "        print(f\"Title: {movie['movie_title']}\")"
   ]
  },
  {
   "cell_type": "code",
   "execution_count": null,
   "id": "4bf270c4",
   "metadata": {},
   "outputs": [
    {
     "name": "stdout",
     "output_type": "stream",
     "text": [
      "movie:Inception\n",
      "movie:The Dark Knight\n"
     ]
    }
   ],
   "source": [
    "display_movies(movies_catalog[1])"
   ]
  }
 ],
 "metadata": {
  "kernelspec": {
   "display_name": "Python 3",
   "language": "python",
   "name": "python3"
  },
  "language_info": {
   "codemirror_mode": {
    "name": "ipython",
    "version": 3
   },
   "file_extension": ".py",
   "mimetype": "text/x-python",
   "name": "python",
   "nbconvert_exporter": "python",
   "pygments_lexer": "ipython3",
   "version": "3.13.5"
  }
 },
 "nbformat": 4,
 "nbformat_minor": 5
}

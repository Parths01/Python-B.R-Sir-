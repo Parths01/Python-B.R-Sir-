{
 "cells": [
  {
   "cell_type": "markdown",
   "id": "34b8d18e",
   "metadata": {},
   "source": [
    "<h1>Parth</h1>"
   ]
  },
  {
   "cell_type": "markdown",
   "id": "9eb1d6d7",
   "metadata": {},
   "source": [
    "| Subject   | Teacher   |\n",
    "|-----------|-----------|\n",
    "| Math      | Mr. Smith |\n",
    "| Science   | Ms. Lee   |"
   ]
  },
  {
   "cell_type": "markdown",
   "id": "c4b37b12",
   "metadata": {},
   "source": [
    "| Boys  | Girls |\n",
    "| ------|-------|\n",
    "|  12   |  21   |"
   ]
  },
  {
   "cell_type": "markdown",
   "id": "5e2a780f",
   "metadata": {},
   "source": [
    "| Name | Roll no |\n",
    "|------|---------|\n",
    "| Parth| 12345   |"
   ]
  },
  {
   "cell_type": "code",
   "execution_count": 19,
   "id": "ca958303",
   "metadata": {},
   "outputs": [],
   "source": [
    "college = {\"MIT-World Peace University\": \"MIT-WPU\"}"
   ]
  },
  {
   "cell_type": "markdown",
   "id": "dad7cb37",
   "metadata": {},
   "source": []
  },
  {
   "cell_type": "markdown",
   "id": "ca017195",
   "metadata": {},
   "source": [
    "<h1 align=\"center\">My Self</h1>\n",
    "<p style=\"color:blue\">Hello Every On My name is Parth Suryawanshi I resently Pursuing Master's Of Computer Application in "
   ]
  }
 ],
 "metadata": {
  "kernelspec": {
   "display_name": "Python 3",
   "language": "python",
   "name": "python3"
  },
  "language_info": {
   "codemirror_mode": {
    "name": "ipython",
    "version": 3
   },
   "file_extension": ".py",
   "mimetype": "text/x-python",
   "name": "python",
   "nbconvert_exporter": "python",
   "pygments_lexer": "ipython3",
   "version": "3.13.5"
  }
 },
 "nbformat": 4,
 "nbformat_minor": 5
}
